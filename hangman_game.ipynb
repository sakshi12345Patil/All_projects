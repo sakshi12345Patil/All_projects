{
  "nbformat": 4,
  "nbformat_minor": 0,
  "metadata": {
    "colab": {
      "provenance": [],
      "authorship_tag": "ABX9TyOQ/gm+EG2bHcn2KQKHsao2",
      "include_colab_link": true
    },
    "kernelspec": {
      "name": "python3",
      "display_name": "Python 3"
    },
    "language_info": {
      "name": "python"
    }
  },
  "cells": [
    {
      "cell_type": "markdown",
      "metadata": {
        "id": "view-in-github",
        "colab_type": "text"
      },
      "source": [
        "<a href=\"https://colab.research.google.com/github/sakshi12345Patil/All_projects/blob/main/hangman_game.ipynb\" target=\"_parent\"><img src=\"https://colab.research.google.com/assets/colab-badge.svg\" alt=\"Open In Colab\"/></a>"
      ]
    },
    {
      "cell_type": "code",
      "execution_count": 2,
      "metadata": {
        "colab": {
          "base_uri": "https://localhost:8080/"
        },
        "id": "p4Js2AG7ckAP",
        "outputId": "fad9f719-62b1-45de-f1f4-5654c126d382"
      },
      "outputs": [
        {
          "output_type": "stream",
          "name": "stdout",
          "text": [
            "Welcome to Hangman!!\n",
            "Try to Guess the word using letters of fruits.\n",
            "\n",
            "- - - - - \n",
            "Enter the Word letter or guess full word by pressing #:m\n",
            "Oops...wrong guess \n",
            "Current progress: _ _ _ _ _ \n",
            "Enter the Word letter or guess full word by pressing #:a\n",
            "Correct...\n",
            "Current progress: a _ _ _ _ \n",
            "Enter the Word letter or guess full word by pressing #:#\n",
            "Guess the word:apple\n",
            "Congratulations! You guessed the word correctly! You Won!\n"
          ]
        }
      ],
      "source": [
        "import random\n",
        "\n",
        "words = [\"mango\", \"apple\", \"orange\", \"stawberry\", \"graps\"]\n",
        "word = random.choice(words)\n",
        "guessed = [\"_\"] * len(word)\n",
        "attempts = 10\n",
        "\n",
        "print(\"Welcome to Hangman!!\")\n",
        "print(\"Try to Guess the word using letters of fruits.\\n\")\n",
        "print(\"- \" * len(word))\n",
        "\n",
        "for chance in range(1, attempts + 1):\n",
        "    print(\"Enter the Word letter or guess full word by pressing #:\", end=\"\")\n",
        "    guess = input()\n",
        "\n",
        "    if guess == \"#\":\n",
        "        print(\"Guess the word:\", end=\"\")\n",
        "        full_guess = input()\n",
        "        if full_guess == word:\n",
        "            print(\"Congratulations! You guessed the word correctly! You Won!\")\n",
        "            break\n",
        "        else:\n",
        "            print(\"Wrong guess. Try again.\")\n",
        "    elif len(guess) == 1:\n",
        "        if guess in word:\n",
        "            print(\"Correct...\")\n",
        "            for i in range(len(word)):\n",
        "                if word[i] == guess:\n",
        "                    guessed[i] = guess\n",
        "        else:\n",
        "            print(\"Oops...wrong guess \")\n",
        "    else:\n",
        "        print(\"Invalid input. Please enter a single letter or # to guess the word.\")\n",
        "\n",
        "    print(\"Current progress:\", end=\" \")\n",
        "    for letter in guessed:\n",
        "        print(letter, end=\" \")\n",
        "    print()\n",
        "\n",
        "    if \"_\" not in guessed:\n",
        "        print(\"Congratulations! You guessed the word correctly! You Won!\")\n",
        "        break\n",
        "    elif chance == attempts - 1:\n",
        "        print(\"Come on, Last Chance..\\n\")\n",
        "else:\n",
        "    if \"_\" in guessed:\n",
        "        print(\"You lose\")\n",
        "        print(\"Correct Answer was:\", word)\n",
        "\n",
        "\n"
      ]
    }
  ]
}