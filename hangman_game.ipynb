{
  "nbformat": 4,
  "nbformat_minor": 0,
  "metadata": {
    "colab": {
      "provenance": [],
      "authorship_tag": "ABX9TyMVDQbmo7/4d5jk3wGK9In0",
      "include_colab_link": true
    },
    "kernelspec": {
      "name": "python3",
      "display_name": "Python 3"
    },
    "language_info": {
      "name": "python"
    }
  },
  "cells": [
    {
      "cell_type": "markdown",
      "metadata": {
        "id": "view-in-github",
        "colab_type": "text"
      },
      "source": [
        "<a href=\"https://colab.research.google.com/github/sakshi12345Patil/All_projects/blob/main/hangman_game.ipynb\" target=\"_parent\"><img src=\"https://colab.research.google.com/assets/colab-badge.svg\" alt=\"Open In Colab\"/></a>"
      ]
    },
    {
      "cell_type": "code",
      "execution_count": 1,
      "metadata": {
        "colab": {
          "base_uri": "https://localhost:8080/"
        },
        "id": "p4Js2AG7ckAP",
        "outputId": "353d2a9f-9d6d-4f1b-cc12-69686247444c"
      },
      "outputs": [
        {
          "output_type": "stream",
          "name": "stdout",
          "text": [
            "welcome to the hangman game \n",
            "guess the Fruit name \n",
            "Word is:\n",
            "['_', '_', '_', '_', '_']\n",
            "Guess the word, you have 10 chances\n",
            "\n",
            "Chance: 1 - Guess a letter: m\n",
            "Oops...worng guess sorry..!!\n",
            "['_', '_', '_', '_', '_']\n",
            "Chance: 2 - Guess a letter: a\n",
            "CONGRACULATIONS....!! It is Correct...\n",
            "['_', '_', 'a', '_', '_']\n",
            "Chance: 3 - Guess a letter: g\n",
            "CONGRACULATIONS....!! It is Correct...\n",
            "['g', '_', 'a', '_', '_']\n",
            "Chance: 4 - Guess a letter: r\n",
            "CONGRACULATIONS....!! It is Correct...\n",
            "['g', 'r', 'a', '_', '_']\n",
            "Chance: 5 - Guess a letter: s\n",
            "CONGRACULATIONS....!! It is Correct...\n",
            "['g', 'r', 'a', '_', 's']\n",
            "Chance: 6 - Guess a letter: p\n",
            "CONGRACULATIONS....!! It is Correct...\n",
            "['g', 'r', 'a', 'p', 's']\n",
            "You win! The word is: graps\n"
          ]
        }
      ],
      "source": [
        "import random\n",
        "\n",
        "words = [\"mango\", \"apple\", \"orange\", \"stawberry\", \"graps\"]\n",
        "word = random.choice(words)\n",
        "guessed = [\"_\"] * len(word)\n",
        "attempts = 10\n",
        "\n",
        "print(\"welcome to the hangman game \")\n",
        "print(\"guess the Fruit name \")\n",
        "print(\"Word is:\")\n",
        "print(guessed)\n",
        "print(\"Guess the word, you have\", attempts, \"chances\\n\")\n",
        "\n",
        "for chance in range(1, attempts + 1):\n",
        "    print(\"Chance:\", chance, \"- Guess a letter: \", end=\"\")\n",
        "    guess = input()\n",
        "\n",
        "    if len(guess) == 1:\n",
        "        if guess in word:\n",
        "            print(\"CONGRACULATIONS....!! It is Correct...\")\n",
        "            for i in range(len(word)):\n",
        "                if word[i] == guess:\n",
        "                    guessed[i] = guess\n",
        "        else:\n",
        "            print(\"Oops...worng guess sorry..!!\")\n",
        "    else:\n",
        "        print(\"Invalid input. Please enter a single letter.\")\n",
        "\n",
        "    print(guessed)\n",
        "\n",
        "    if \"_\" not in guessed:\n",
        "        print(\"You win! The word is:\", word)\n",
        "        break\n",
        "    elif chance == attempts - 1:\n",
        "        print(\"Come on, Last Chance..\\n\")\n",
        "else:\n",
        "    print(\"You lose\")\n",
        "    print(\"Correct Answer was:\", word)\n"
      ]
    }
  ]
}