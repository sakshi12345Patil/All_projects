{
  "nbformat": 4,
  "nbformat_minor": 0,
  "metadata": {
    "colab": {
      "provenance": [],
      "authorship_tag": "ABX9TyN9rmqjyYYOFddywd2MXWlf",
      "include_colab_link": true
    },
    "kernelspec": {
      "name": "python3",
      "display_name": "Python 3"
    },
    "language_info": {
      "name": "python"
    }
  },
  "cells": [
    {
      "cell_type": "markdown",
      "metadata": {
        "id": "view-in-github",
        "colab_type": "text"
      },
      "source": [
        "<a href=\"https://colab.research.google.com/github/sakshi12345Patil/All_projects/blob/main/xo_game.ipynb\" target=\"_parent\"><img src=\"https://colab.research.google.com/assets/colab-badge.svg\" alt=\"Open In Colab\"/></a>"
      ]
    },
    {
      "cell_type": "code",
      "execution_count": 3,
      "metadata": {
        "colab": {
          "base_uri": "https://localhost:8080/"
        },
        "id": "FL_35CYadKiq",
        "outputId": "4840a5ae-c2b2-4519-8ace-c156e3a6b910"
      },
      "outputs": [
        {
          "output_type": "stream",
          "name": "stdout",
          "text": [
            "1 2 3\n",
            "4 5 6\n",
            "7 8 9\n",
            "Player 1, select your box (1-9):\n",
            "1\n",
            "X 2 3\n",
            "4 5 6\n",
            "7 8 9\n",
            "Player 2, select your box (1-9):\n",
            "5\n",
            "X 2 3\n",
            "4 O 6\n",
            "7 8 9\n",
            "Player 1, select your box (1-9):\n",
            "2\n",
            "X X 3\n",
            "4 O 6\n",
            "7 8 9\n",
            "Player 2, select your box (1-9):\n",
            "9\n",
            "X X 3\n",
            "4 O 6\n",
            "7 8 O\n",
            "Player 1, select your box (1-9):\n",
            "3\n",
            "X X X\n",
            "4 O 6\n",
            "7 8 O\n",
            "Player 1 is the winner!\n",
            "GAME OVER\n"
          ]
        }
      ],
      "source": [
        "# Create a game of XO (Tic Tac Toe)\n",
        "board = [1, 2, 3, 4, 5, 6, 7, 8, 9]\n",
        "\n",
        "def show_board():\n",
        "    for i in range(0, 9, 3):\n",
        "        print(board[i], board[i+1], board[i+2])\n",
        "\n",
        "def check_winner(mark):\n",
        "    # Rows\n",
        "    for i in range(0, 9, 3):\n",
        "        if board[i] == board[i+1] == board[i+2] == mark:\n",
        "            return True\n",
        "    # Columns\n",
        "    for i in range(3):\n",
        "        if board[i] == board[i+3] == board[i+6] == mark:\n",
        "            return True\n",
        "    # Diagonals\n",
        "    if board[0] == board[4] == board[8] == mark:\n",
        "        return True\n",
        "    if board[2] == board[4] == board[6] == mark:\n",
        "        return True\n",
        "    return False\n",
        "\n",
        "player = 1\n",
        "round_num = 1\n",
        "\n",
        "while round_num <= 9:\n",
        "    show_board()\n",
        "    print(f\"Player {player}, select your box (1-9):\")\n",
        "\n",
        "    try:\n",
        "        box_num = int(input())\n",
        "    except ValueError:\n",
        "        print(\"Please enter a valid number!\")\n",
        "        continue\n",
        "\n",
        "    if box_num < 1 or box_num > 9 or board[box_num - 1] in ['X', 'O']:\n",
        "        print(\"Invalid move! Try again.\")\n",
        "        continue\n",
        "\n",
        "    mark = 'X' if player == 1 else 'O'\n",
        "    board[box_num - 1] = mark\n",
        "\n",
        "    if check_winner(mark):\n",
        "        show_board()\n",
        "        print(f\"Player {player} is the winner!\")\n",
        "        break\n",
        "\n",
        "    player = 2 if player == 1 else 1\n",
        "    round_num += 1\n",
        "\n",
        "    if round_num > 9:\n",
        "        show_board()\n",
        "        print(\"Game Draw!\")\n",
        "\n",
        "print(\"GAME OVER\")\n"
      ]
    }
  ]
}