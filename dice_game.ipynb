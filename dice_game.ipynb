{
  "nbformat": 4,
  "nbformat_minor": 0,
  "metadata": {
    "colab": {
      "provenance": [],
      "authorship_tag": "ABX9TyOQ6zojPIvYx3tISYvm+WX7",
      "include_colab_link": true
    },
    "kernelspec": {
      "name": "python3",
      "display_name": "Python 3"
    },
    "language_info": {
      "name": "python"
    }
  },
  "cells": [
    {
      "cell_type": "markdown",
      "metadata": {
        "id": "view-in-github",
        "colab_type": "text"
      },
      "source": [
        "<a href=\"https://colab.research.google.com/github/sakshi12345Patil/Cardiovascular-disease-prediction/blob/main/dice_game.ipynb\" target=\"_parent\"><img src=\"https://colab.research.google.com/assets/colab-badge.svg\" alt=\"Open In Colab\"/></a>"
      ]
    },
    {
      "cell_type": "code",
      "execution_count": 9,
      "metadata": {
        "colab": {
          "base_uri": "https://localhost:8080/"
        },
        "id": "3lGxFuzSYqhS",
        "outputId": "d34ae6fc-a34b-4810-e667-597c28cf7357"
      },
      "outputs": [
        {
          "output_type": "stream",
          "name": "stdout",
          "text": [
            "Player 1 : 1\n",
            "Player 2 : 2\n",
            "Player 1 : 4\n",
            "Player 2 : 6\n",
            "Player 2 got one more chance\n",
            "Player 2 : 4\n",
            "Player 1 : 5\n",
            "Player 2 : 6\n",
            "Player 2 got one more chance\n",
            "Player 2 : 2\n",
            "Player 1 : 4\n",
            "Player 2 : 2\n",
            "Player 1 : 2\n",
            "Player 2 : 5\n",
            "Player 1 : 5\n",
            "Player 2 : 3\n",
            "Player 1 : 1\n",
            "Player 2 : 3\n",
            "Player 1 : 6\n",
            "Player 1 got one more chance\n",
            "Player 1 : 2\n",
            "Player 2 : 2\n",
            "Player 1 : 1\n",
            "Player 2 : 3\n",
            "Player 1 : 3\n",
            "Player 2 : 4\n",
            "Player 1 : 2\n",
            "Player 2 : 1\n",
            "Player 1 : 6\n",
            "Player 1 got one more chance\n",
            "Player 1 : 5\n",
            "Player 2 : 3\n",
            "Player 1 : 4\n",
            "Player 2 : 1\n",
            "Player 1 : 1\n",
            "Player 2 : 4\n",
            "Player 1 : 3\n",
            "Player 2 : 1\n",
            "Player 1 : 1\n",
            "Player 2 : 2\n",
            "Player 1 : 5\n",
            "Player 2 : 5\n",
            "Player 1 : 5\n",
            "Player 2 : 5\n",
            "Player 1 : 2\n",
            "Player 2 : 4\n",
            "Player 1 : 4\n",
            "Player 2 : 2\n",
            "Player 1 : 4\n",
            "Player 2 : 2\n",
            "Player 1 : 1\n",
            "Player 2 : 4\n",
            "Player 1 : 6\n",
            "Player 1 got one more chance\n",
            "Player 1 : 6\n",
            "Player 1 Wins!!\n"
          ]
        }
      ],
      "source": [
        "#dice game\n",
        "\n",
        "import random\n",
        "\n",
        "while True:\n",
        "    # Player 1 turn\n",
        "    p1_dice = random.randint(1, 6)\n",
        "    print(\"Player 1 :\", p1_dice)\n",
        "    if p1_dice == 6:\n",
        "        print(\"Player 1 got one more chance\")\n",
        "        p1_dice = random.randint(1, 6)\n",
        "        print(\"Player 1 :\", p1_dice)\n",
        "        if p1_dice == 6:\n",
        "            print(\"Player 1 Wins!!\")\n",
        "            break\n",
        "\n",
        "    # Player 2 turn\n",
        "    p2_dice = random.randint(1, 6)\n",
        "    print(\"Player 2 :\", p2_dice)\n",
        "    if p2_dice == 6:\n",
        "        print(\"Player 2 got one more chance\")\n",
        "        p2_dice = random.randint(1, 6)\n",
        "        print(\"Player 2 :\", p2_dice)\n",
        "        if p2_dice == 6:\n",
        "            print(\"Player 2 Wins!!\")\n",
        "            break\n",
        "\n",
        ""
      ]
    }
  ]
}